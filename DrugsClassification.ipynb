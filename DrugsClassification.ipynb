{
  "nbformat": 4,
  "nbformat_minor": 0,
  "metadata": {
    "colab": {
      "name": "Untitled1.ipynb",
      "provenance": [],
      "authorship_tag": "ABX9TyNb0tCzI2C/eb0qa4tu4h/Z",
      "include_colab_link": true
    },
    "kernelspec": {
      "name": "python3",
      "display_name": "Python 3"
    },
    "language_info": {
      "name": "python"
    }
  },
  "cells": [
    {
      "cell_type": "markdown",
      "metadata": {
        "id": "view-in-github",
        "colab_type": "text"
      },
      "source": [
        "<a href=\"https://colab.research.google.com/github/kirtijha014/Drugs-Classification/blob/main/DrugsClassification.ipynb\" target=\"_parent\"><img src=\"https://colab.research.google.com/assets/colab-badge.svg\" alt=\"Open In Colab\"/></a>"
      ]
    },
    {
      "cell_type": "markdown",
      "source": [
        "DRUG PREDICTION FOR CARDIOVASCULAR DISEASES\n",
        "\n",
        "Created by Kirti Jha\n",
        "\n",
        "Introduction- The model takes input parameters such as Age, Sex, BP ,Cholesterol and Na-to-K values and according to these values will predict the Drug out of five different drugs Captopril, Digoxin, Atropine, Theophilline, Isoprenaline."
      ],
      "metadata": {
        "id": "7H-zgtIlm7ya"
      }
    },
    {
      "cell_type": "markdown",
      "source": [
        "Importing pandas and Numpy libraries.\n",
        "*   Pandas - pandas pyhton library is used for handling data frames.\n",
        "*   Numpy - numpy library is used for handling 1D , 2D arrays performing mathematical calculation.\n",
        "The data is stored in GitHub repository. It is directly loaded as pandas dataframe from the link of the data provided."
      ],
      "metadata": {
        "id": "ZXsqGmHDnHpa"
      }
    },
    {
      "cell_type": "code",
      "source": [
        "import pandas as pd\n",
        "import numpy as np\n",
        "drug = pd.read_csv(\"https://raw.githubusercontent.com/RD1coder/Drug/main/drug200.csv\")"
      ],
      "metadata": {
        "id": "nD1GzLuNnF2A"
      },
      "execution_count": 9,
      "outputs": []
    },
    {
      "cell_type": "markdown",
      "source": [
        "After Importing the dataset, the dataset will be split into featurs and labels. X variables contains all the features and Y variable contains the target column of the corresponding drugs.\n",
        "\n",
        "The main dataset is also printed to view the size and shape of data."
      ],
      "metadata": {
        "id": "bNfrdZYsndJ-"
      }
    },
    {
      "cell_type": "code",
      "source": [
        "x,y=drug.shape\n",
        "X = drug.iloc[:,:-1].values \n",
        "Y = drug.iloc[:,-1].values\n",
        "Y.shape"
      ],
      "metadata": {
        "colab": {
          "base_uri": "https://localhost:8080/"
        },
        "id": "oh6GrIhlnfCK",
        "outputId": "8ecf6443-5285-46ae-903d-0ab87ae2f71d"
      },
      "execution_count": 10,
      "outputs": [
        {
          "output_type": "execute_result",
          "data": {
            "text/plain": [
              "(200,)"
            ]
          },
          "metadata": {},
          "execution_count": 10
        }
      ]
    },
    {
      "cell_type": "markdown",
      "source": [
        "from google.colab import drive drive.mount('/content/drive')\n",
        "\n",
        "Now the features contain categorical data like in sex M and F, in bp low, normal and high. The mathematical model will not be able to handle these categorical values. So for processing categories we need to encode them. The encoding is done using OneHot Encoder. This converts the model into corresponding dummy variables."
      ],
      "metadata": {
        "id": "_-2Z19tUnoVx"
      }
    },
    {
      "cell_type": "code",
      "source": [
        "from sklearn.preprocessing import OneHotEncoder\n",
        "from sklearn.compose import ColumnTransformer\n",
        "# changing X categories\n",
        "ct = ColumnTransformer(transformers=[(\"encode\",OneHotEncoder(),[1])], remainder=\"passthrough\")\n",
        "X = np.array(ct.fit_transform(X) )\n",
        "# changing X categories\n",
        "ct = ColumnTransformer(transformers=[(\"encode\",OneHotEncoder(),[3])], remainder=\"passthrough\")\n",
        "X = np.array(ct.fit_transform(X) )\n",
        "# changing X categories\n",
        "ct = ColumnTransformer(transformers=[(\"encode\",OneHotEncoder(),[6])], remainder=\"passthrough\")\n",
        "X = np.array(ct.fit_transform(X) )"
      ],
      "metadata": {
        "id": "jYFH8JdvnpZj"
      },
      "execution_count": 11,
      "outputs": []
    },
    {
      "cell_type": "markdown",
      "source": [
        "To encode target column we will be using a python script. The categorical data in target have 5 drugs. To encode them into 0,1,2,3 and 4 values this python block is used."
      ],
      "metadata": {
        "id": "RDRin_RBnzyL"
      }
    },
    {
      "cell_type": "code",
      "source": [
        "x,y=drug.shape\n",
        "\n",
        "labels = []\n",
        "\n",
        "for i in Y:\n",
        "    if i in labels:\n",
        "        pass\n",
        "    else:\n",
        "        labels.append(i)\n",
        "\n",
        "print(labels)\n",
        "\n",
        "for l in range(x):\n",
        "    for i in range(len(labels)):\n",
        "        if (labels[i]==Y[l]):\n",
        "            Y[l] = i\n",
        "        else :\n",
        "            pass\n",
        "Y = Y.astype(np.float)"
      ],
      "metadata": {
        "colab": {
          "base_uri": "https://localhost:8080/"
        },
        "id": "5I2veuQ2n0dR",
        "outputId": "47c06eba-eba2-43c9-fafb-c80a215551c4"
      },
      "execution_count": 12,
      "outputs": [
        {
          "output_type": "stream",
          "name": "stdout",
          "text": [
            "['Captopril', 'Digoxin', 'Atropine', 'Theophilline', 'Isoprenaline']\n"
          ]
        }
      ]
    },
    {
      "cell_type": "markdown",
      "source": [
        "Now the Features and Labels are split into test set and training set of data. The training set is used for model generation and test set is used for model parametes calculation. The test size is 20% of the original data."
      ],
      "metadata": {
        "id": "HEJkn6qZoApi"
      }
    },
    {
      "cell_type": "code",
      "source": [
        "#Test Train Split\n",
        "from sklearn.model_selection import train_test_split\n",
        "X_train, X_test , Y_train , Y_test = train_test_split(X,Y, test_size=.20,random_state=42)"
      ],
      "metadata": {
        "id": "kBPJAdDUoBpu"
      },
      "execution_count": 13,
      "outputs": []
    },
    {
      "cell_type": "markdown",
      "source": [
        "In this block of code the model is imported from SKlearn library. The model used is Logistic Regression which is readily available in Sklearn library.\n",
        "\n",
        "After the model is called the model is provided with training set data for model generation."
      ],
      "metadata": {
        "id": "HYHdI7nLoHga"
      }
    },
    {
      "cell_type": "code",
      "source": [
        "from sklearn.linear_model import LogisticRegression\n",
        "classifier = LogisticRegression(random_state = 0)\n",
        "classifier.fit(X_train, Y_train)\n"
      ],
      "metadata": {
        "colab": {
          "base_uri": "https://localhost:8080/"
        },
        "id": "dWG0WC3foIFe",
        "outputId": "708748c6-94f3-4005-eb43-ac0654e5300d"
      },
      "execution_count": 14,
      "outputs": [
        {
          "output_type": "stream",
          "name": "stderr",
          "text": [
            "/usr/local/lib/python3.7/dist-packages/sklearn/linear_model/_logistic.py:818: ConvergenceWarning: lbfgs failed to converge (status=1):\n",
            "STOP: TOTAL NO. of ITERATIONS REACHED LIMIT.\n",
            "\n",
            "Increase the number of iterations (max_iter) or scale the data as shown in:\n",
            "    https://scikit-learn.org/stable/modules/preprocessing.html\n",
            "Please also refer to the documentation for alternative solver options:\n",
            "    https://scikit-learn.org/stable/modules/linear_model.html#logistic-regression\n",
            "  extra_warning_msg=_LOGISTIC_SOLVER_CONVERGENCE_MSG,\n"
          ]
        },
        {
          "output_type": "execute_result",
          "data": {
            "text/plain": [
              "LogisticRegression(random_state=0)"
            ]
          },
          "metadata": {},
          "execution_count": 14
        }
      ]
    },
    {
      "cell_type": "markdown",
      "source": [
        "Now once the model is successfully we can calculate accuracy of the model. There is a inbult method for prediction and accuracy calculation named as .predict( ) and .score( ) repectively. The calculated is 97.5 %."
      ],
      "metadata": {
        "id": "lggcrhqgoSkx"
      }
    },
    {
      "cell_type": "code",
      "source": [
        "y_pred = classifier.predict(X_test)\n",
        "accuracy = classifier.score(X_test,Y_test)\n",
        "accuracy"
      ],
      "metadata": {
        "colab": {
          "base_uri": "https://localhost:8080/"
        },
        "id": "oRKUB8hCoTYX",
        "outputId": "8e1cdcff-376c-4e18-a9d7-ceb616839f65"
      },
      "execution_count": 15,
      "outputs": [
        {
          "output_type": "execute_result",
          "data": {
            "text/plain": [
              "0.975"
            ]
          },
          "metadata": {},
          "execution_count": 15
        }
      ]
    },
    {
      "cell_type": "markdown",
      "source": [
        "These are the prediction results for testing feature data. It is given for comparison with actual data given in next cell."
      ],
      "metadata": {
        "id": "it9Trx6UoYZ5"
      }
    },
    {
      "cell_type": "code",
      "source": [
        "y_pred"
      ],
      "metadata": {
        "colab": {
          "base_uri": "https://localhost:8080/"
        },
        "id": "cTBCWYUroY0Z",
        "outputId": "feb6eef2-afb0-4b98-dc21-495d8d259834"
      },
      "execution_count": 16,
      "outputs": [
        {
          "output_type": "execute_result",
          "data": {
            "text/plain": [
              "array([2., 0., 2., 1., 0., 0., 0., 2., 3., 2., 3., 2., 0., 3., 4., 0., 4.,\n",
              "       2., 1., 0., 4., 2., 2., 0., 0., 0., 1., 2., 0., 2., 0., 1., 0., 0.,\n",
              "       3., 0., 2., 3., 0., 3.])"
            ]
          },
          "metadata": {},
          "execution_count": 16
        }
      ]
    },
    {
      "cell_type": "markdown",
      "source": [
        "This is the actual data:"
      ],
      "metadata": {
        "id": "Nyx_UqkRo8tI"
      }
    },
    {
      "cell_type": "code",
      "source": [
        "Y_test"
      ],
      "metadata": {
        "colab": {
          "base_uri": "https://localhost:8080/"
        },
        "id": "Mioh3vMtoy7z",
        "outputId": "b91fe4d4-3b63-43ec-8ea6-8c3c74b1bac8"
      },
      "execution_count": 17,
      "outputs": [
        {
          "output_type": "execute_result",
          "data": {
            "text/plain": [
              "array([2., 0., 2., 1., 0., 0., 0., 2., 3., 2., 3., 2., 0., 3., 4., 0., 4.,\n",
              "       2., 1., 0., 4., 2., 2., 0., 0., 0., 1., 2., 0., 2., 0., 1., 1., 0.,\n",
              "       3., 0., 2., 3., 0., 3.])"
            ]
          },
          "metadata": {},
          "execution_count": 17
        }
      ]
    },
    {
      "cell_type": "markdown",
      "source": [
        "This block of code is for creating confusion matrix which requires the prediction data and actual data. The confusion matric matrix is printed in form of a 2D array"
      ],
      "metadata": {
        "id": "FR-rDQPYpC_H"
      }
    },
    {
      "cell_type": "code",
      "source": [
        "# Making the Confusion Matrix\n",
        "from sklearn.metrics import confusion_matrix\n",
        "cm = confusion_matrix(Y_test, y_pred)\n",
        "cm"
      ],
      "metadata": {
        "colab": {
          "base_uri": "https://localhost:8080/"
        },
        "id": "iSNIWudJo5At",
        "outputId": "b61b6995-a90c-43d2-c145-92a6949d1f90"
      },
      "execution_count": 18,
      "outputs": [
        {
          "output_type": "execute_result",
          "data": {
            "text/plain": [
              "array([[15,  0,  0,  0,  0],\n",
              "       [ 1,  4,  0,  0,  0],\n",
              "       [ 0,  0, 11,  0,  0],\n",
              "       [ 0,  0,  0,  6,  0],\n",
              "       [ 0,  0,  0,  0,  3]])"
            ]
          },
          "metadata": {},
          "execution_count": 18
        }
      ]
    },
    {
      "cell_type": "markdown",
      "source": [
        "This block of code is to calculate the F1 score of the model. The F1 score of the model is .971."
      ],
      "metadata": {
        "id": "FCtYw2tmpJqw"
      }
    },
    {
      "cell_type": "code",
      "source": [
        "from sklearn.metrics import f1_score \n",
        "#for calculating  accuracy_score\n",
        "print(\"f1_score =\",f1_score(Y_test,y_pred, average='macro'))"
      ],
      "metadata": {
        "colab": {
          "base_uri": "https://localhost:8080/"
        },
        "id": "yC6FeiDIpFcs",
        "outputId": "4b3bc843-184c-46e4-b35c-b125cb92d852"
      },
      "execution_count": 19,
      "outputs": [
        {
          "output_type": "stream",
          "name": "stdout",
          "text": [
            "f1_score = 0.9713261648745519\n"
          ]
        }
      ]
    },
    {
      "cell_type": "markdown",
      "source": [
        "This is the deployment script. It asks for user input and generate the prediction of testing data provided."
      ],
      "metadata": {
        "id": "jNUyoz_8pNpU"
      }
    },
    {
      "cell_type": "code",
      "source": [
        "#the final test script\n",
        "iparry =[]\n",
        "sex = input(\"Enter gender 'F' for femnale 'M for male' -- \").upper()\n",
        "BP = input(\"Enter BP 'LOW','NORMAL','HIGH' -- \").upper()\n",
        "Cholesterol = input(\"Enter Cholesterol 'NORMAL' or 'HIGH' -- \").upper()\n",
        "Age = int(input(\"Enter Age -- \"))\n",
        "Na_to_K = float(input(\"Enter Na_to_K value 'some value between 0 to 40' -- \"))\n",
        "\n",
        "if (sex == \"F\"):\n",
        "  iparry.extend([0.0,1.0])\n",
        "else:\n",
        "  iparry.extend([1.0,0.0])\n",
        "\n",
        "if ( BP == \"LOW\"):\n",
        "  iparry.extend([0.0,0.0,1.0])\n",
        "elif( BP == \"NORMAL\"):\n",
        "  iparry.extend([0.0,1.0,0.0])\n",
        "else:\n",
        "  iparry.extend([1.0,0.0,0.0])\n",
        "\n",
        "if (Cholesterol == \"NORMAL\"):\n",
        "  iparry.extend([0.0,1.0])\n",
        "else:\n",
        "  iparry.extend([1.0,0.0])  \n",
        "\n",
        "iparry.append(Age)\n",
        "iparry.append(Na_to_K)\n",
        "temp = []\n",
        "temp.append(iparry)\n",
        "print(iparry)\n",
        "ans = classifier.predict(temp)\n",
        "print(\"The drug you should take is -- \"+labels[int(ans)])"
      ],
      "metadata": {
        "id": "rv1Utt3apM4b"
      },
      "execution_count": null,
      "outputs": []
    }
  ]
}